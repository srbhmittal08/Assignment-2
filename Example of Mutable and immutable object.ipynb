{
 "cells": [
  {
   "cell_type": "code",
   "execution_count": 1,
   "id": "0b6412a8-5dde-4cee-9d38-10b4fcc31919",
   "metadata": {},
   "outputs": [],
   "source": [
    "l = [\"saurabh\", 5, 7, 8, 10, 100]"
   ]
  },
  {
   "cell_type": "code",
   "execution_count": 2,
   "id": "21ec5904-c1eb-4990-ad2b-104e6c569de6",
   "metadata": {},
   "outputs": [
    {
     "data": {
      "text/plain": [
       "['saurabh', 5, 7, 8, 10, 100]"
      ]
     },
     "execution_count": 2,
     "metadata": {},
     "output_type": "execute_result"
    }
   ],
   "source": [
    "l"
   ]
  },
  {
   "cell_type": "code",
   "execution_count": 3,
   "id": "5ed7d747-4a8a-4269-aff1-70b8869c3a9d",
   "metadata": {},
   "outputs": [],
   "source": [
    "l[1] = \"mittal\""
   ]
  },
  {
   "cell_type": "code",
   "execution_count": 4,
   "id": "42782c75-72a8-4a8d-9004-3426d33ae306",
   "metadata": {},
   "outputs": [
    {
     "data": {
      "text/plain": [
       "['saurabh', 'mittal', 7, 8, 10, 100]"
      ]
     },
     "execution_count": 4,
     "metadata": {},
     "output_type": "execute_result"
    }
   ],
   "source": [
    "l"
   ]
  },
  {
   "cell_type": "code",
   "execution_count": 6,
   "id": "68708a96-c056-4201-8755-f7c7916d272f",
   "metadata": {},
   "outputs": [],
   "source": [
    "l[0] = 7"
   ]
  },
  {
   "cell_type": "code",
   "execution_count": 7,
   "id": "b883771a-504f-475b-9e01-a580b9a1200c",
   "metadata": {},
   "outputs": [
    {
     "data": {
      "text/plain": [
       "[7, 'mittal', 7, 8, 10, 100]"
      ]
     },
     "execution_count": 7,
     "metadata": {},
     "output_type": "execute_result"
    }
   ],
   "source": [
    "l"
   ]
  },
  {
   "cell_type": "code",
   "execution_count": 8,
   "id": "f9486c30-7d2e-4971-b051-570e94a05a55",
   "metadata": {},
   "outputs": [],
   "source": [
    "s = \"saurabh\""
   ]
  },
  {
   "cell_type": "code",
   "execution_count": 9,
   "id": "a9eb5b41-9929-4e68-8150-e712e3720657",
   "metadata": {},
   "outputs": [
    {
     "data": {
      "text/plain": [
       "'saurabh'"
      ]
     },
     "execution_count": 9,
     "metadata": {},
     "output_type": "execute_result"
    }
   ],
   "source": [
    "s"
   ]
  },
  {
   "cell_type": "code",
   "execution_count": 10,
   "id": "a7a9a2e2-6584-472b-8870-6ec170cbb9eb",
   "metadata": {},
   "outputs": [
    {
     "ename": "TypeError",
     "evalue": "'str' object does not support item assignment",
     "output_type": "error",
     "traceback": [
      "\u001b[0;31m---------------------------------------------------------------------------\u001b[0m",
      "\u001b[0;31mTypeError\u001b[0m                                 Traceback (most recent call last)",
      "Cell \u001b[0;32mIn[10], line 1\u001b[0m\n\u001b[0;32m----> 1\u001b[0m \u001b[43ms\u001b[49m\u001b[43m[\u001b[49m\u001b[38;5;241;43m0\u001b[39;49m\u001b[43m]\u001b[49m \u001b[38;5;241m=\u001b[39m \u001b[38;5;124m'\u001b[39m\u001b[38;5;124mb\u001b[39m\u001b[38;5;124m'\u001b[39m\n",
      "\u001b[0;31mTypeError\u001b[0m: 'str' object does not support item assignment"
     ]
    }
   ],
   "source": [
    "s[0] = 'b'"
   ]
  },
  {
   "cell_type": "code",
   "execution_count": null,
   "id": "f6d09a7a-efd4-46bf-bfb9-0655b78864f9",
   "metadata": {},
   "outputs": [],
   "source": []
  }
 ],
 "metadata": {
  "kernelspec": {
   "display_name": "Python 3 (ipykernel)",
   "language": "python",
   "name": "python3"
  },
  "language_info": {
   "codemirror_mode": {
    "name": "ipython",
    "version": 3
   },
   "file_extension": ".py",
   "mimetype": "text/x-python",
   "name": "python",
   "nbconvert_exporter": "python",
   "pygments_lexer": "ipython3",
   "version": "3.10.8"
  }
 },
 "nbformat": 4,
 "nbformat_minor": 5
}
