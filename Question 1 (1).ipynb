{
 "cells": [
  {
   "cell_type": "code",
   "execution_count": 4,
   "id": "9723a8dc-77ec-4329-a54f-8ee3b1e5bcde",
   "metadata": {},
   "outputs": [],
   "source": [
    "s =[\"saurabh\", 45.23, (2,4,5,9)]"
   ]
  },
  {
   "cell_type": "code",
   "execution_count": 5,
   "id": "60e2fa72-02a9-4c54-9353-55948901dda9",
   "metadata": {},
   "outputs": [
    {
     "data": {
      "text/plain": [
       "['saurabh', 45.23, (2, 4, 5, 9)]"
      ]
     },
     "execution_count": 5,
     "metadata": {},
     "output_type": "execute_result"
    }
   ],
   "source": [
    "s"
   ]
  },
  {
   "cell_type": "code",
   "execution_count": 6,
   "id": "f485461e-cd45-4dfc-8b71-4b3b0d4c59ef",
   "metadata": {},
   "outputs": [
    {
     "data": {
      "text/plain": [
       "str"
      ]
     },
     "execution_count": 6,
     "metadata": {},
     "output_type": "execute_result"
    }
   ],
   "source": [
    "type (s[0])"
   ]
  },
  {
   "cell_type": "code",
   "execution_count": 7,
   "id": "ab32639b-46bf-4709-860e-db27baf51ac9",
   "metadata": {},
   "outputs": [
    {
     "data": {
      "text/plain": [
       "float"
      ]
     },
     "execution_count": 7,
     "metadata": {},
     "output_type": "execute_result"
    }
   ],
   "source": [
    "type (s[1])"
   ]
  },
  {
   "cell_type": "code",
   "execution_count": 8,
   "id": "0810e226-5f29-4d57-96a6-655001c816d5",
   "metadata": {},
   "outputs": [
    {
     "data": {
      "text/plain": [
       "list"
      ]
     },
     "execution_count": 8,
     "metadata": {},
     "output_type": "execute_result"
    }
   ],
   "source": [
    "type(s)"
   ]
  },
  {
   "cell_type": "code",
   "execution_count": 9,
   "id": "604f02ce-cbd3-4d92-9bd6-89b73e4e7246",
   "metadata": {},
   "outputs": [
    {
     "data": {
      "text/plain": [
       "tuple"
      ]
     },
     "execution_count": 9,
     "metadata": {},
     "output_type": "execute_result"
    }
   ],
   "source": [
    "type(s[2])"
   ]
  },
  {
   "cell_type": "code",
   "execution_count": null,
   "id": "224ab772-69bc-410d-a95d-e3704c556079",
   "metadata": {},
   "outputs": [],
   "source": []
  }
 ],
 "metadata": {
  "kernelspec": {
   "display_name": "Python 3 (ipykernel)",
   "language": "python",
   "name": "python3"
  },
  "language_info": {
   "codemirror_mode": {
    "name": "ipython",
    "version": 3
   },
   "file_extension": ".py",
   "mimetype": "text/x-python",
   "name": "python",
   "nbconvert_exporter": "python",
   "pygments_lexer": "ipython3",
   "version": "3.10.8"
  }
 },
 "nbformat": 4,
 "nbformat_minor": 5
}
