{
 "cells": [
  {
   "cell_type": "code",
   "execution_count": 7,
   "id": "86ceaca6-c015-47a1-8ab9-a944f34bf5e2",
   "metadata": {},
   "outputs": [
    {
     "name": "stdout",
     "output_type": "stream",
     "text": [
      "0 Element is divisble by 3\n",
      "1 element is not divisble by 3\n",
      "2 element is not divisble by 3\n",
      "0 Element is divisble by 3\n",
      "1 element is not divisble by 3\n",
      "2 element is not divisble by 3\n",
      "0 Element is divisble by 3\n",
      "1 element is not divisble by 3\n",
      "2 element is not divisble by 3\n",
      "0 Element is divisble by 3\n",
      "1 element is not divisble by 3\n",
      "2 element is not divisble by 3\n",
      "0 Element is divisble by 3\n",
      "1 element is not divisble by 3\n",
      "2 element is not divisble by 3\n",
      "0 Element is divisble by 3\n",
      "1 element is not divisble by 3\n",
      "2 element is not divisble by 3\n",
      "0 Element is divisble by 3\n",
      "1 element is not divisble by 3\n",
      "2 element is not divisble by 3\n",
      "0 Element is divisble by 3\n",
      "1 element is not divisble by 3\n",
      "2 element is not divisble by 3\n",
      "0 Element is divisble by 3\n"
     ]
    }
   ],
   "source": [
    "l = (range(25))\n",
    "for i in l :\n",
    "    if (i%3==0) :\n",
    "        print(i%3,\"Element is divisble by 3\")\n",
    "        i = i+1\n",
    "    else :\n",
    "            print(i%3, \"element is not divisble by 3\")\n"
   ]
  },
  {
   "cell_type": "code",
   "execution_count": null,
   "id": "0194323a-ca6a-401c-bcde-155dd680ec16",
   "metadata": {},
   "outputs": [],
   "source": []
  }
 ],
 "metadata": {
  "kernelspec": {
   "display_name": "Python 3 (ipykernel)",
   "language": "python",
   "name": "python3"
  },
  "language_info": {
   "codemirror_mode": {
    "name": "ipython",
    "version": 3
   },
   "file_extension": ".py",
   "mimetype": "text/x-python",
   "name": "python",
   "nbconvert_exporter": "python",
   "pygments_lexer": "ipython3",
   "version": "3.10.8"
  }
 },
 "nbformat": 4,
 "nbformat_minor": 5
}
