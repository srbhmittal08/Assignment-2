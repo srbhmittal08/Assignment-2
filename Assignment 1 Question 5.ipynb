{
 "cells": [
  {
   "cell_type": "code",
   "execution_count": 11,
   "id": "258eb7b3-71e2-4b89-a19f-859cf12a2b92",
   "metadata": {},
   "outputs": [
    {
     "name": "stdin",
     "output_type": "stream",
     "text": [
      "Enter value of A 64\n",
      "Enter value of B 32\n"
     ]
    },
    {
     "name": "stdout",
     "output_type": "stream",
     "text": [
      "A is purely divisible by B 2.0 times divisible\n"
     ]
    }
   ],
   "source": [
    "A = int(input(\"Enter value of A\"))\n",
    "B = int(input(\"Enter value of B\"))\n",
    "i = A%B\n",
    "c = A/B\n",
    "while (i == 0) :\n",
    "    print(\"A is purely divisible by B\", c,\"times divisible\")\n",
    "    break \n",
    "else :\n",
    "    print(\"A is not divisible by B\")"
   ]
  },
  {
   "cell_type": "code",
   "execution_count": null,
   "id": "d7b45a7e-7d14-436e-ba69-a66917621c3e",
   "metadata": {},
   "outputs": [],
   "source": []
  }
 ],
 "metadata": {
  "kernelspec": {
   "display_name": "Python 3 (ipykernel)",
   "language": "python",
   "name": "python3"
  },
  "language_info": {
   "codemirror_mode": {
    "name": "ipython",
    "version": 3
   },
   "file_extension": ".py",
   "mimetype": "text/x-python",
   "name": "python",
   "nbconvert_exporter": "python",
   "pygments_lexer": "ipython3",
   "version": "3.10.8"
  }
 },
 "nbformat": 4,
 "nbformat_minor": 5
}
