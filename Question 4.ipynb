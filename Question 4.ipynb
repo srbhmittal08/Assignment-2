{
 "cells": [
  {
   "cell_type": "code",
   "execution_count": 5,
   "id": "b6c4328f-cfa2-42ee-811a-5f53359f2f46",
   "metadata": {},
   "outputs": [
    {
     "name": "stdout",
     "output_type": "stream",
     "text": [
      "2 <class 'int'>\n",
      "5 <class 'int'>\n",
      "6 <class 'int'>\n",
      "45.23 <class 'float'>\n",
      "True <class 'bool'>\n",
      "(5+7j) <class 'complex'>\n",
      "(2, 4, 5) <class 'tuple'>\n",
      "saurabh <class 'str'>\n",
      "23.89 <class 'float'>\n",
      "so <class 'str'>\n"
     ]
    }
   ],
   "source": [
    "q = [2, 5, 6, 45.23, True, 5+7j, (2,4,5), \"saurabh\", 23.89, \"so\"]\n",
    "for j in q :\n",
    "    print(j, type(j))"
   ]
  },
  {
   "cell_type": "code",
   "execution_count": null,
   "id": "830cd805-b7b4-4aa1-accd-a69d00dc0d32",
   "metadata": {},
   "outputs": [],
   "source": []
  }
 ],
 "metadata": {
  "kernelspec": {
   "display_name": "Python 3 (ipykernel)",
   "language": "python",
   "name": "python3"
  },
  "language_info": {
   "codemirror_mode": {
    "name": "ipython",
    "version": 3
   },
   "file_extension": ".py",
   "mimetype": "text/x-python",
   "name": "python",
   "nbconvert_exporter": "python",
   "pygments_lexer": "ipython3",
   "version": "3.10.8"
  }
 },
 "nbformat": 4,
 "nbformat_minor": 5
}
